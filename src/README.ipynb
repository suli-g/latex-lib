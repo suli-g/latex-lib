{
 "cells": [
  {
   "cell_type": "markdown",
   "id": "74d5e078",
   "metadata": {},
   "source": [
    "# LaTeX Lib\n",
    "\n",
    "This package contains a class for simplifying representation of NumPy arrays using LaTeX syntax in a Jupyter notebook.\n",
    "\n",
    "## Installation\n",
    "\n",
    "```bash\n",
    "pip install -i https://test.pypi.org/simple/ latex-lib\n",
    "```\n",
    "\n",
    "## Usage\n",
    "\n",
    "The `LatexArray` class can be used to handle NumPy arrays that need to displayed.\n",
    "\n",
    "* This class subclasses the `Latex` class from IPython, which is what IPython uses when displaying the object in a Jupyter notebook as LaTeX."
   ]
  },
  {
   "cell_type": "code",
   "execution_count": 110,
   "id": "fe15b9d5",
   "metadata": {},
   "outputs": [
    {
     "data": {
      "text/latex": [
       "\n",
       "$$\n",
       "\\begin{pmatrix}\n",
       "0 & 1 & 2 & 3 & 4 & 5 & 6 & 7 & 8 & 9 & 10 & 11\n",
       "\\end{pmatrix}\n",
       "$$\n"
      ],
      "text/plain": [
       "LatexArray([ 0,  1,  2,  3,  4,  5,  6,  7,  8,  9, 10, 11])"
      ]
     },
     "execution_count": 110,
     "metadata": {},
     "output_type": "execute_result"
    }
   ],
   "source": [
    "import numpy as np\n",
    "from latex_lib import LatexArray as Array\n",
    "\n",
    "# Declare an array of 12 integers as a row vector.\n",
    "array: Array = Array(range(12))\n",
    "array"
   ]
  },
  {
   "cell_type": "markdown",
   "id": "a1ff50ec",
   "metadata": {},
   "source": [
    "### Arithemtic Operations\n",
    "\n",
    "The class supports all arithmetic operations supported by `np.ndarray` (its superclass),\n",
    "which covers generally all operations."
   ]
  },
  {
   "cell_type": "code",
   "execution_count": 111,
   "id": "3e5faf66",
   "metadata": {},
   "outputs": [
    {
     "data": {
      "text/latex": [
       "\n",
       "$$\n",
       "\\begin{pmatrix}\n",
       "0.4 & 2.4 & 4.4 & 6.4 & 8.4 & 10.4 & 12.4 & 14.4 & 16.4 & 18.4 & 20.4 & 22.4\n",
       "\\end{pmatrix}\n",
       "$$\n"
      ],
      "text/plain": [
       "LatexArray([ 0.4,  2.4,  4.4,  6.4,  8.4, 10.4, 12.4, 14.4, 16.4, 18.4,\n",
       "            20.4, 22.4])"
      ]
     },
     "execution_count": 111,
     "metadata": {},
     "output_type": "execute_result"
    }
   ],
   "source": [
    "# Perform some arithmetic on the original array.\n",
    "(array + array) + 1 * 2 / 5"
   ]
  },
  {
   "cell_type": "markdown",
   "id": "5ed8c1f1",
   "metadata": {},
   "source": [
    "## NumPy Methods\n",
    "\n",
    "The class supports all methods supported by `np.ndarray` as well."
   ]
  },
  {
   "cell_type": "code",
   "execution_count": 112,
   "id": "f5627545",
   "metadata": {},
   "outputs": [
    {
     "data": {
      "text/latex": [
       "\n",
       "$$\n",
       "\\begin{pmatrix}\n",
       "0\\\\\n",
       "1\\\\\n",
       "2\\\\\n",
       "3\\\\\n",
       "4\\\\\n",
       "5\\\\\n",
       "6\\\\\n",
       "7\\\\\n",
       "8\\\\\n",
       "9\\\\\n",
       "10\\\\\n",
       "11\n",
       "\\end{pmatrix}\n",
       "$$\n"
      ],
      "text/plain": [
       "LatexArray([[ 0],\n",
       "            [ 1],\n",
       "            [ 2],\n",
       "            [ 3],\n",
       "            [ 4],\n",
       "            [ 5],\n",
       "            [ 6],\n",
       "            [ 7],\n",
       "            [ 8],\n",
       "            [ 9],\n",
       "            [10],\n",
       "            [11]])"
      ]
     },
     "execution_count": 112,
     "metadata": {},
     "output_type": "execute_result"
    }
   ],
   "source": [
    "# Reshape the array into a column vector.\n",
    "array.reshape((-1, 1))"
   ]
  },
  {
   "cell_type": "code",
   "execution_count": null,
   "id": "188c681f",
   "metadata": {},
   "outputs": [
    {
     "data": {
      "text/latex": [
       "\n",
       "$$\n",
       "\\begin{bmatrix}\n",
       "0 & 1\\\\\n",
       "2 & 3\\\\\n",
       "4 & 5\\\\\n",
       "6 & 7\\\\\n",
       "8 & 9\\\\\n",
       "10 & 11\n",
       "\\end{bmatrix}\n",
       "$$\n"
      ],
      "text/plain": [
       "LatexArray([[ 0,  1],\n",
       "            [ 2,  3],\n",
       "            [ 4,  5],\n",
       "            [ 6,  7],\n",
       "            [ 8,  9],\n",
       "            [10, 11]])"
      ]
     },
     "execution_count": 113,
     "metadata": {},
     "output_type": "execute_result"
    }
   ],
   "source": [
    "# Reshape the array into a 6 x 2 matrix.\n",
    "array.reshape(-1, 2)"
   ]
  },
  {
   "cell_type": "markdown",
   "id": "c926d1c0",
   "metadata": {},
   "source": [
    "## NumPy Class Methods\n",
    "\n",
    "Numpy functions and class methods are also generally supported (although, edge cases may exist)."
   ]
  },
  {
   "cell_type": "code",
   "execution_count": 108,
   "id": "3bfabcb0",
   "metadata": {},
   "outputs": [
    {
     "data": {
      "text/plain": [
       "array(['Odd', 'Even', 'Odd', 'Even', 'Odd', 'Even', 'Odd', 'Even', 'Odd',\n",
       "       'Even', 'Odd', 'Even'], dtype='<U4')"
      ]
     },
     "execution_count": 108,
     "metadata": {},
     "output_type": "execute_result"
    }
   ],
   "source": [
    "# NumPy functions work but do not return a LatexArray object.\n",
    "np.where(array % 2 == 0, \"Even\", \"Odd\")"
   ]
  },
  {
   "cell_type": "code",
   "execution_count": 109,
   "id": "cd91e52d",
   "metadata": {},
   "outputs": [
    {
     "data": {
      "text/latex": [
       "\n",
       "$$\n",
       "\\begin{pmatrix}\n",
       "Odd & Even & Odd & Even & Odd & Even & Odd & Even & Odd & Even & Odd & Even\n",
       "\\end{pmatrix}\n",
       "$$\n"
      ],
      "text/plain": [
       "LatexArray(['Odd', 'Even', 'Odd', 'Even', 'Odd', 'Even', 'Odd', 'Even',\n",
       "            'Odd', 'Even', 'Odd', 'Even'], dtype='<U4')"
      ]
     },
     "execution_count": 109,
     "metadata": {},
     "output_type": "execute_result"
    }
   ],
   "source": [
    "# We may, however, cast them to one:\n",
    "Array(np.where(array % 2 == 0, \"Even\", \"Odd\"))"
   ]
  },
  {
   "cell_type": "markdown",
   "id": "923ce55e",
   "metadata": {},
   "source": [
    "## Contributing\n",
    "\n",
    "If you have any questions or suggestions, please feel free to [open an issue](https://github.com/suli-g/latex-lib/issues) or [submit a pull request](https://github.com/suli-g/latex-lib/pulls).\n",
    "\n",
    "## License\n",
    "\n",
    "This package is released under the [MIT License](https://github.com/suli-g/latex-lib/blob/main/LICENSE)."
   ]
  }
 ],
 "metadata": {
  "kernelspec": {
   "display_name": "latex-lib (3.13.5)",
   "language": "python",
   "name": "python3"
  },
  "language_info": {
   "codemirror_mode": {
    "name": "ipython",
    "version": 3
   },
   "file_extension": ".py",
   "mimetype": "text/x-python",
   "name": "python",
   "nbconvert_exporter": "python",
   "pygments_lexer": "ipython3",
   "version": "3.13.5"
  }
 },
 "nbformat": 4,
 "nbformat_minor": 5
}
