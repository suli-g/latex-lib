{
 "cells": [
  {
   "cell_type": "markdown",
   "id": "74d5e078",
   "metadata": {},
   "source": [
    "# LaTeX Lib\n",
    "\n",
    "This package contains a class for simplifying representation of NumPy arrays using LaTeX syntax in a Jupyter notebook.\n",
    "\n",
    "## Installation\n",
    "\n",
    "```bash\n",
    "pip install -i https://test.pypi.org/simple/ latex-lib\n",
    "```\n",
    "\n",
    "## Usage\n",
    "\n",
    "### Declaring an Array\n",
    "\n",
    "The `LatexArray` class can be used to handle NumPy arrays that need to be displayed in Jupyter notebooks.\n",
    "\n",
    "* This class subclasses the `Latex` class from IPython, which is what IPython uses when displaying the object in a Jupyter notebook as LaTeX."
   ]
  },
  {
   "cell_type": "code",
   "execution_count": 7,
   "id": "fe15b9d5",
   "metadata": {},
   "outputs": [
    {
     "data": {
      "text/latex": [
       "\\begin{pmatrix}\n",
       "0 & 1 & 2 & 3 & 4 & 5 & 6 & 7 & 8 & 9 & 10 & 11\n",
       "\\end{pmatrix}"
      ],
      "text/plain": [
       "LatexArray([ 0,  1,  2,  3,  4,  5,  6,  7,  8,  9, 10, 11])"
      ]
     },
     "execution_count": 7,
     "metadata": {},
     "output_type": "execute_result"
    }
   ],
   "source": [
    "from latex_lib import LatexArray as Array\n",
    "\n",
    "# Declare an array of 12 integers as a row vector.\n",
    "array: Array = Array(range(12))\n",
    "array"
   ]
  },
  {
   "cell_type": "markdown",
   "id": "a1ff50ec",
   "metadata": {},
   "source": [
    "### Arithemtic Operations\n",
    "\n",
    "The class supports all arithmetic operations supported by `np.ndarray` (its superclass),\n",
    "which covers generally all operations."
   ]
  },
  {
   "cell_type": "code",
   "execution_count": 8,
   "id": "3e5faf66",
   "metadata": {},
   "outputs": [
    {
     "data": {
      "text/latex": [
       "\\begin{pmatrix}\n",
       "0.4 & 2.4 & 4.4 & 6.4 & 8.4 & 10.4 & 12.4 & 14.4 & 16.4 & 18.4 & 20.4 & 22.4\n",
       "\\end{pmatrix}"
      ],
      "text/plain": [
       "LatexArray([ 0.4,  2.4,  4.4,  6.4,  8.4, 10.4, 12.4, 14.4, 16.4, 18.4,\n",
       "            20.4, 22.4])"
      ]
     },
     "execution_count": 8,
     "metadata": {},
     "output_type": "execute_result"
    }
   ],
   "source": [
    "# Perform some arithmetic on the original array.\n",
    "(array + array) + 1 * 2 / 5"
   ]
  },
  {
   "cell_type": "markdown",
   "id": "5ed8c1f1",
   "metadata": {},
   "source": [
    "## NumPy Methods\n",
    "\n",
    "The class supports all methods supported by `np.ndarray` as well."
   ]
  },
  {
   "cell_type": "code",
   "execution_count": 9,
   "id": "f5627545",
   "metadata": {},
   "outputs": [
    {
     "data": {
      "text/latex": [
       "\\begin{pmatrix}\n",
       "0\\\\\n",
       "1\\\\\n",
       "2\\\\\n",
       "3\\\\\n",
       "4\\\\\n",
       "5\\\\\n",
       "6\\\\\n",
       "7\\\\\n",
       "8\\\\\n",
       "9\\\\\n",
       "10\\\\\n",
       "11\n",
       "\\end{pmatrix}"
      ],
      "text/plain": [
       "LatexArray([[ 0],\n",
       "            [ 1],\n",
       "            [ 2],\n",
       "            [ 3],\n",
       "            [ 4],\n",
       "            [ 5],\n",
       "            [ 6],\n",
       "            [ 7],\n",
       "            [ 8],\n",
       "            [ 9],\n",
       "            [10],\n",
       "            [11]])"
      ]
     },
     "execution_count": 9,
     "metadata": {},
     "output_type": "execute_result"
    }
   ],
   "source": [
    "# Reshape the array into a column vector.\n",
    "array.reshape((-1, 1))"
   ]
  },
  {
   "cell_type": "code",
   "execution_count": 10,
   "id": "188c681f",
   "metadata": {},
   "outputs": [
    {
     "data": {
      "text/latex": [
       "\\begin{bmatrix}\n",
       "0 & 1\\\\\n",
       "2 & 3\\\\\n",
       "4 & 5\\\\\n",
       "6 & 7\\\\\n",
       "8 & 9\\\\\n",
       "10 & 11\n",
       "\\end{bmatrix}"
      ],
      "text/plain": [
       "LatexArray([[ 0,  1],\n",
       "            [ 2,  3],\n",
       "            [ 4,  5],\n",
       "            [ 6,  7],\n",
       "            [ 8,  9],\n",
       "            [10, 11]])"
      ]
     },
     "execution_count": 10,
     "metadata": {},
     "output_type": "execute_result"
    }
   ],
   "source": [
    "# Reshape the array into a 6 x 2 matrix.\n",
    "array.reshape(-1, 2)"
   ]
  },
  {
   "cell_type": "markdown",
   "id": "c926d1c0",
   "metadata": {},
   "source": [
    "## NumPy Class Methods\n",
    "\n",
    "Numpy functions and class methods are also generally supported (although, edge cases may exist)."
   ]
  },
  {
   "cell_type": "code",
   "execution_count": 11,
   "id": "3bfabcb0",
   "metadata": {},
   "outputs": [
    {
     "data": {
      "text/plain": [
       "array(['Even', 'Odd', 'Even', 'Odd', 'Even', 'Odd', 'Even', 'Odd', 'Even',\n",
       "       'Odd', 'Even', 'Odd'], dtype='<U4')"
      ]
     },
     "execution_count": 11,
     "metadata": {},
     "output_type": "execute_result"
    }
   ],
   "source": [
    "import numpy as np\n",
    "\n",
    "# NumPy functions work but do not return a LatexArray object.\n",
    "np.where(array % 2 == 0, \"Even\", \"Odd\")"
   ]
  },
  {
   "cell_type": "code",
   "execution_count": 12,
   "id": "cd91e52d",
   "metadata": {},
   "outputs": [
    {
     "data": {
      "text/latex": [
       "\\begin{pmatrix}\n",
       "Even & Odd & Even & Odd & Even & Odd & Even & Odd & Even & Odd & Even & Odd\n",
       "\\end{pmatrix}"
      ],
      "text/plain": [
       "LatexArray(['Even', 'Odd', 'Even', 'Odd', 'Even', 'Odd', 'Even', 'Odd',\n",
       "            'Even', 'Odd', 'Even', 'Odd'], dtype='<U4')"
      ]
     },
     "execution_count": 12,
     "metadata": {},
     "output_type": "execute_result"
    }
   ],
   "source": [
    "# We may, however, cast them to one:\n",
    "Array(np.where(array % 2 == 0, \"Even\", \"Odd\"))"
   ]
  },
  {
   "cell_type": "markdown",
   "id": "19236338",
   "metadata": {},
   "source": [
    "### Creating Expressions\n",
    "\n",
    "This can be used to constructor more complex Latex expressions.\n",
    "The `IPython.display.Latex` class can be used to create more complex Latex expressions."
   ]
  },
  {
   "cell_type": "code",
   "execution_count": 13,
   "id": "eb657705",
   "metadata": {},
   "outputs": [
    {
     "data": {
      "text/latex": [
       "$$\n",
       "      \\begin{align*}\n",
       "      & \\text{Given matrices A and B, where: }\\\\\n",
       "      & A = \\begin{pmatrix}\n",
       "0 & 1 & 2 & 3 & 4 & 5 & 6 & 7 & 8 & 9 & 10 & 11\n",
       "\\end{pmatrix} && B = \\begin{bmatrix}\n",
       "0 & 5 & 10 & 15 & 20 & 25\\\\\n",
       "30 & 35 & 40 & 45 & 50 & 55\n",
       "\\end{bmatrix}\\\\\n",
       "      & \\text{The dot product can be obtained as: }\\\\\\\\\n",
       "      & A \\cdot B = \\begin{bmatrix}\n",
       "0 & 1\\\\\n",
       "2 & 3\\\\\n",
       "4 & 5\\\\\n",
       "6 & 7\\\\\n",
       "8 & 9\\\\\n",
       "10 & 11\n",
       "\\end{bmatrix} \\cdot \\begin{bmatrix}\n",
       "0 & 5 & 10 & 15 & 20 & 25\\\\\n",
       "30 & 35 & 40 & 45 & 50 & 55\n",
       "\\end{bmatrix} \\\\\n",
       "      & = \\begin{bmatrix}\n",
       "30 & 35 & 40 & 45 & 50 & 55\\\\\n",
       "90 & 115 & 140 & 165 & 190 & 215\\\\\n",
       "150 & 195 & 240 & 285 & 330 & 375\\\\\n",
       "210 & 275 & 340 & 405 & 470 & 535\\\\\n",
       "270 & 355 & 440 & 525 & 610 & 695\\\\\n",
       "330 & 435 & 540 & 645 & 750 & 855\n",
       "\\end{bmatrix}\n",
       "      \\end{align*}\n",
       "      $$"
      ],
      "text/plain": [
       "<IPython.core.display.Latex object>"
      ]
     },
     "execution_count": 13,
     "metadata": {},
     "output_type": "execute_result"
    }
   ],
   "source": [
    "from IPython.display import Latex\n",
    "from latex_lib import LatexArray as Array\n",
    "\n",
    "# Declare an array of 12 integers as a row vector.\n",
    "array_a: Array = Array(range(12)).reshape(-1, 2)\n",
    "array_b: Array = Array(range(12)).reshape(2, -1) * 5\n",
    "\n",
    "Latex(rf\"\"\"$$\n",
    "      \\begin{{align*}}\n",
    "      & \\text{{Given matrices A and B, where: }}\\\\\n",
    "      & A = {array} && B = {array_b}\\\\\n",
    "      & \\text{{The dot product can be obtained as: }}\\\\\\\\\n",
    "      & A \\cdot B = {array_a} \\cdot {array_b} \\\\\n",
    "      & = {array_a @ array_b}\n",
    "      \\end{{align*}}\n",
    "      $$\"\"\")"
   ]
  },
  {
   "cell_type": "markdown",
   "id": "923ce55e",
   "metadata": {},
   "source": [
    "## Contributing\n",
    "\n",
    "If you have any questions or suggestions, please feel free to [open an issue](https://github.com/suli-g/latex-lib/issues) or [submit a pull request](https://github.com/suli-g/latex-lib/pulls).\n",
    "\n",
    "## License\n",
    "\n",
    "This package is released under the [MIT License](https://github.com/suli-g/latex-lib/blob/main/LICENSE)."
   ]
  }
 ],
 "metadata": {
  "kernelspec": {
   "display_name": "latex-lib (3.13.5)",
   "language": "python",
   "name": "python3"
  },
  "language_info": {
   "codemirror_mode": {
    "name": "ipython",
    "version": 3
   },
   "file_extension": ".py",
   "mimetype": "text/x-python",
   "name": "python",
   "nbconvert_exporter": "python",
   "pygments_lexer": "ipython3",
   "version": "3.13.5"
  }
 },
 "nbformat": 4,
 "nbformat_minor": 5
}
