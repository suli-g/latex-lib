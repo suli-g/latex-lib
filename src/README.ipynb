{
 "cells": [
  {
   "cell_type": "markdown",
   "id": "74d5e078",
   "metadata": {},
   "source": [
    "# LaTeX Lib\n",
    "\n",
    "This package contains a class for simplifying representation of NumPy arrays using LaTeX syntax in a Jupyter notebook.\n",
    "\n",
    "## Installation\n",
    "\n",
    "```bash\n",
    "pip install latex-lib\n",
    "```\n",
    "\n",
    "## Usage\n",
    "\n",
    "The `LatexArray` class can be used to handle NumPy arrays that need to displayed.\n",
    "\n",
    "* This class subclasses the `Latex` class from IPython, which is what IPython uses when displaying the object in a Jupyter notebook as LaTeX."
   ]
  },
  {
   "cell_type": "code",
   "execution_count": null,
   "id": "fe15b9d5",
   "metadata": {},
   "outputs": [
    {
     "ename": "TypeError",
     "evalue": "LatexArray.__new__() got an unexpected keyword argument 'shape'",
     "output_type": "error",
     "traceback": [
      "\u001b[31m---------------------------------------------------------------------------\u001b[39m",
      "\u001b[31mTypeError\u001b[39m                                 Traceback (most recent call last)",
      "\u001b[36mCell\u001b[39m\u001b[36m \u001b[39m\u001b[32mIn[13]\u001b[39m\u001b[32m, line 5\u001b[39m\n\u001b[32m      2\u001b[39m \u001b[38;5;28;01mfrom\u001b[39;00m\u001b[38;5;250m \u001b[39m\u001b[34;01mlatex_lib\u001b[39;00m\u001b[38;5;250m \u001b[39m\u001b[38;5;28;01mimport\u001b[39;00m LatexArray \u001b[38;5;28;01mas\u001b[39;00m Array\n\u001b[32m      4\u001b[39m \u001b[38;5;66;03m# Declare an array of 6 integers as a row vector.\u001b[39;00m\n\u001b[32m----> \u001b[39m\u001b[32m5\u001b[39m array: Array = \u001b[43mArray\u001b[49m\u001b[43m(\u001b[49m\u001b[38;5;28;43mrange\u001b[39;49m\u001b[43m(\u001b[49m\u001b[32;43m6\u001b[39;49m\u001b[43m)\u001b[49m\u001b[43m,\u001b[49m\u001b[43m \u001b[49m\u001b[43mshape\u001b[49m\u001b[43m=\u001b[49m\u001b[43m(\u001b[49m\u001b[32;43m2\u001b[39;49m\u001b[43m,\u001b[49m\u001b[43m \u001b[49m\u001b[32;43m3\u001b[39;49m\u001b[43m)\u001b[49m\u001b[43m)\u001b[49m\n\u001b[32m      6\u001b[39m array\n",
      "\u001b[31mTypeError\u001b[39m: LatexArray.__new__() got an unexpected keyword argument 'shape'"
     ]
    }
   ],
   "source": [
    "import numpy as np\n",
    "from latex_lib import LatexArray as Array\n",
    "\n",
    "# Declare an array of 6 integers as a row vector.\n",
    "array: Array = Array(range(6))\n",
    "array"
   ]
  },
  {
   "cell_type": "markdown",
   "id": "a1ff50ec",
   "metadata": {},
   "source": [
    "### Arithemtic Operations\n",
    "\n",
    "The class supports all arithmetic operations supported by `np.ndarray` (its superclass),\n",
    "which covers generally all operations."
   ]
  },
  {
   "cell_type": "code",
   "execution_count": 8,
   "id": "3e5faf66",
   "metadata": {},
   "outputs": [
    {
     "data": {
      "text/latex": [
       "\n",
       "$$\n",
       "\\begin{pmatrix}\n",
       "0.4 & 2.4 & 4.4 & 6.4 & 8.4 & 10.4\n",
       "\\end{pmatrix}\n",
       "$$\n"
      ],
      "text/plain": [
       "LatexArray([ 0.4,  2.4,  4.4,  6.4,  8.4, 10.4])"
      ]
     },
     "execution_count": 8,
     "metadata": {},
     "output_type": "execute_result"
    }
   ],
   "source": [
    "# Perform some arithmetic on the original array.\n",
    "(array + array) + 1 * 2 / 5"
   ]
  },
  {
   "cell_type": "markdown",
   "id": "5ed8c1f1",
   "metadata": {},
   "source": [
    "## NumPy Methods\n",
    "\n",
    "The class supports all methods supported by `np.ndarray` as well."
   ]
  },
  {
   "cell_type": "code",
   "execution_count": 9,
   "id": "f5627545",
   "metadata": {},
   "outputs": [
    {
     "data": {
      "text/latex": [
       "\n",
       "$$\n",
       "\\begin{pmatrix}\n",
       "0\\\\\n",
       "1\\\\\n",
       "2\\\\\n",
       "3\\\\\n",
       "4\\\\\n",
       "5\n",
       "\\end{pmatrix}\n",
       "$$\n"
      ],
      "text/plain": [
       "LatexArray([[0],\n",
       "            [1],\n",
       "            [2],\n",
       "            [3],\n",
       "            [4],\n",
       "            [5]])"
      ]
     },
     "execution_count": 9,
     "metadata": {},
     "output_type": "execute_result"
    }
   ],
   "source": [
    "# Reshape the array into a column vector.\n",
    "array.reshape((-1, 1))"
   ]
  },
  {
   "cell_type": "code",
   "execution_count": 10,
   "id": "188c681f",
   "metadata": {},
   "outputs": [
    {
     "data": {
      "text/latex": [
       "\n",
       "$$\n",
       "\\begin{bmatrix}\n",
       "0 & 1\\\\\n",
       "2 & 3\\\\\n",
       "4 & 5\n",
       "\\end{bmatrix}\n",
       "$$\n"
      ],
      "text/plain": [
       "LatexArray([[0, 1],\n",
       "            [2, 3],\n",
       "            [4, 5]])"
      ]
     },
     "execution_count": 10,
     "metadata": {},
     "output_type": "execute_result"
    }
   ],
   "source": [
    "# Reshape the array into a 3 x 2 matrix.\n",
    "array.reshape(-1, 2)"
   ]
  },
  {
   "cell_type": "markdown",
   "id": "c926d1c0",
   "metadata": {},
   "source": [
    "## NumPy Class Methods\n",
    "\n",
    "Numpy functions and class methods are also generally supported (although, edge cases may exist)."
   ]
  },
  {
   "cell_type": "code",
   "execution_count": 11,
   "id": "3bfabcb0",
   "metadata": {},
   "outputs": [
    {
     "data": {
      "text/plain": [
       "array(['Even', 'Odd', 'Even', 'Odd', 'Even', 'Odd'], dtype='<U4')"
      ]
     },
     "execution_count": 11,
     "metadata": {},
     "output_type": "execute_result"
    }
   ],
   "source": [
    "# NumPy functions work but do not return a LatexArray object.\n",
    "np.where(array % 2 == 0, \"Even\", \"Odd\")"
   ]
  },
  {
   "cell_type": "code",
   "execution_count": 12,
   "id": "cd91e52d",
   "metadata": {},
   "outputs": [
    {
     "data": {
      "text/latex": [
       "\n",
       "$$\n",
       "\\begin{pmatrix}\n",
       "Even & Odd & Even & Odd & Even & Odd\n",
       "\\end{pmatrix}\n",
       "$$\n"
      ],
      "text/plain": [
       "LatexArray(['Even', 'Odd', 'Even', 'Odd', 'Even', 'Odd'], dtype='<U4')"
      ]
     },
     "execution_count": 12,
     "metadata": {},
     "output_type": "execute_result"
    }
   ],
   "source": [
    "# We may, however, cast them to one:\n",
    "Array(np.where(array % 2 == 0, \"Even\", \"Odd\"))"
   ]
  },
  {
   "cell_type": "markdown",
   "id": "923ce55e",
   "metadata": {},
   "source": [
    "## Contributing\n",
    "\n",
    "If you have any questions or suggestions, please feel free to [open an issue](https://github.com/suli-g/latex-lib/issues) or [submit a pull request](https://github.com/suli-g/latex-lib/pulls).\n",
    "\n",
    "## License\n",
    "\n",
    "This package is released under the [MIT License](https://github.com/suli-g/latex-lib/blob/main/LICENSE)."
   ]
  }
 ],
 "metadata": {
  "kernelspec": {
   "display_name": "latex-lib (3.13.5)",
   "language": "python",
   "name": "python3"
  },
  "language_info": {
   "codemirror_mode": {
    "name": "ipython",
    "version": 3
   },
   "file_extension": ".py",
   "mimetype": "text/x-python",
   "name": "python",
   "nbconvert_exporter": "python",
   "pygments_lexer": "ipython3",
   "version": "3.13.5"
  }
 },
 "nbformat": 4,
 "nbformat_minor": 5
}
